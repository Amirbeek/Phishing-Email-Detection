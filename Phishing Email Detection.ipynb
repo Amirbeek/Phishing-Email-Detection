{
 "cells": [
  {
   "metadata": {},
   "cell_type": "markdown",
   "source": "## Importing Libraries",
   "id": "ced1e2ae72982468"
  },
  {
   "cell_type": "code",
   "id": "initial_id",
   "metadata": {
    "collapsed": true,
    "ExecuteTime": {
     "end_time": "2025-01-27T22:21:57.217348Z",
     "start_time": "2025-01-27T22:21:57.079051Z"
    }
   },
   "source": [
    "import numpy as np\n",
    "import matplotlib.pyplot as plt\n",
    "import pandas as pd\n",
    "import re\n",
    "import nltk\n",
    "nltk.download('stopwords')\n",
    "from nltk.corpus import stopwords\n",
    "from nltk.stem.porter import PorterStemmer"
   ],
   "outputs": [
    {
     "name": "stderr",
     "output_type": "stream",
     "text": [
      "[nltk_data] Error loading stopwords: <urlopen error [WinError 10054]\n",
      "[nltk_data]     An existing connection was forcibly closed by the\n",
      "[nltk_data]     remote host>\n"
     ]
    }
   ],
   "execution_count": 75
  },
  {
   "metadata": {},
   "cell_type": "markdown",
   "source": "## Importing the Dataset",
   "id": "6bf3648e3560f1cd"
  },
  {
   "metadata": {
    "ExecuteTime": {
     "end_time": "2025-01-27T22:21:57.453261Z",
     "start_time": "2025-01-27T22:21:57.234334Z"
    }
   },
   "cell_type": "code",
   "source": [
    "df = pd.read_csv('./dataset/fraud_email_.csv')\n",
    "df.head()\n",
    "df.info()\n",
    "df.isnull().sum()"
   ],
   "id": "bbcdafdde02ef176",
   "outputs": [
    {
     "name": "stdout",
     "output_type": "stream",
     "text": [
      "<class 'pandas.core.frame.DataFrame'>\n",
      "RangeIndex: 11929 entries, 0 to 11928\n",
      "Data columns (total 2 columns):\n",
      " #   Column  Non-Null Count  Dtype \n",
      "---  ------  --------------  ----- \n",
      " 0   Text    11928 non-null  object\n",
      " 1   Class   11929 non-null  int64 \n",
      "dtypes: int64(1), object(1)\n",
      "memory usage: 186.5+ KB\n"
     ]
    },
    {
     "data": {
      "text/plain": [
       "Text     1\n",
       "Class    0\n",
       "dtype: int64"
      ]
     },
     "execution_count": 76,
     "metadata": {},
     "output_type": "execute_result"
    }
   ],
   "execution_count": 76
  },
  {
   "metadata": {},
   "cell_type": "markdown",
   "source": "## Cleaning the texts\n",
   "id": "e170ee8cdced8647"
  },
  {
   "metadata": {
    "ExecuteTime": {
     "end_time": "2025-01-27T22:21:57.576893Z",
     "start_time": "2025-01-27T22:21:57.563890Z"
    }
   },
   "cell_type": "code",
   "source": [
    "df['Text'] = df['Text'].astype(str)\n",
    "df['Text'] = df['Text'].fillna('')\n"
   ],
   "id": "aa331a538474709d",
   "outputs": [],
   "execution_count": 77
  },
  {
   "metadata": {
    "ExecuteTime": {
     "end_time": "2025-01-27T22:22:18.204721Z",
     "start_time": "2025-01-27T22:21:57.609462Z"
    }
   },
   "cell_type": "code",
   "source": [
    "corpus = []\n",
    "for i in range(0, 11929):\n",
    "  review = re.sub('[^a-zA-Z]', ' ', df['Text'][i])\n",
    "  review = review.lower()\n",
    "  review = review.split()\n",
    "  ps = PorterStemmer()\n",
    "  all_stopwords = stopwords.words('english')\n",
    "  all_stopwords.remove('not')\n",
    "  review = [ps.stem(word) for word in review if not word in set(all_stopwords)]\n",
    "  review = ' '.join(review)\n",
    "  corpus.append(review)"
   ],
   "id": "b55f537d16db3ad9",
   "outputs": [],
   "execution_count": 78
  },
  {
   "metadata": {
    "ExecuteTime": {
     "end_time": "2025-01-27T22:22:18.220716Z",
     "start_time": "2025-01-27T22:22:18.212762Z"
    }
   },
   "cell_type": "code",
   "source": "corpus[:5]",
   "id": "10e0185a49786d1",
   "outputs": [
    {
     "data": {
      "text/plain": [
       "['suppli qualiti china exclus dimens unbeat price dear sir pleas inform one china largest export import sto ne compani wanliston group group subsidiari special q uarri process sale dimens stone slab tile dimen sion stone product build materi sector specialti market e group oper base xiamen south china lar gest export import busi portal china wanliston own oper variou natur stone deposit squar meter th e countri addit quarri wanliston fulli autom pro cess plant process granit marbl granit prod uct wanliston suppli granit raw block form granit marbl tile strip vari dimens memori materi specialti product local specif export market group full rang china natur stone product includ pink color g g g g yellow color g dark g black g',\n",
       " 'sidlet know thx',\n",
       " 'dear friend greet wish accost request would immens benefit us executor will possibl may tempt make fortun client situat cannot help left better option issu present case client will fortun next kin unfortun next kin die day st octob egyptian airlin passeng board confirm websit publish bbc world news websit http ew bbc co uk hi world america stm face confus pass fortun accord english law fortun suppos bequeath govern nobodi come forward next kin within seven year demis benefactor purpos contact seek act beneficiari lay claim legaci million deceas client bequeath next kin alon know client great confid everyth left share would would want give huge part share tsunami victim primari object amend add codicil make beneficiari million legaci feel may apprehens consid amount big defend not matter document back legaci pass next kin not sure get consent issu prefer not divulg full ident not risk disbar english bar consid breach oath english bar need not emphas sensit issu need not toy neglect confidenti therefor appeal not discuss request anybodi even declin request look forward hear soon trulystephen ayl',\n",
       " 'mr cheung puihang seng bank ltd de voeux rd branch central hong kong hong kong let start introduc mr cheung pui director oper hang seng bank ltd urgent busi suggest honestli apolog hope not caus much embarrass contact mean transact magnitud due confidenti prompt access repos medium furthermor due issu hand becam necesari seek assist imper know opinionbefor u iraqi war client major fadi bassem iraqi forc also busi man made number fix deposit calendar month valu twenti four million five hundr thousand unit state dollar branch upon matur sever notic sent even war earli year war anoth notif sent still respons came later find major famili kill war bomb blast hit home investig also discov major fadi basem not declar next kin offici paper includ paper work bank deposit also confid last time offic one except knew deposit bank twenti four million five hundr thousand unit state dollar still lie bank one ever come forward claim bother accord law countri expir year fund revert ownership hong kong govern nobodi appli claim fund backdrop suggest like foreign stand next kin major fadi basem abl receiv fund done want know everyth plan shall come success contact attorney prepar necessari document back next kin major fadi basem requir stage provid full name address attorney commenc job made next kin attorney also file claim behalf secur necessari approv letter probat favor move fund account provid risk involv matter go adopt legal method attorney prepar necessari document pleas endeavor observ utmost discret matter concern thisissu fund transfer nomin bank account shall share ratio expens incur transact interest pleas send full name current residenti address prefer reach via privat box che pui yahoo com hk final shall provid detail oper earliest respons letter appreci kind regard mr cheung pui mail envoy par le servic webmail du site php nuke http www forcetacticalarmi com',\n",
       " 'not surpris assess embassi']"
      ]
     },
     "execution_count": 79,
     "metadata": {},
     "output_type": "execute_result"
    }
   ],
   "execution_count": 79
  },
  {
   "metadata": {},
   "cell_type": "markdown",
   "source": "## Creating the Bag of Words model",
   "id": "3c711a905bcac0b5"
  },
  {
   "metadata": {
    "ExecuteTime": {
     "end_time": "2025-01-27T22:22:19.070014Z",
     "start_time": "2025-01-27T22:22:18.237716Z"
    }
   },
   "cell_type": "code",
   "source": [
    "from sklearn.feature_extraction.text import CountVectorizer\n",
    "cv = CountVectorizer(max_features = 1500)\n",
    "X = cv.fit_transform(corpus).toarray()\n",
    "y = df.iloc[:, -1].values"
   ],
   "id": "530906ec039c3cd7",
   "outputs": [],
   "execution_count": 80
  },
  {
   "metadata": {
    "ExecuteTime": {
     "end_time": "2025-01-27T22:22:19.101477Z",
     "start_time": "2025-01-27T22:22:19.087748Z"
    }
   },
   "cell_type": "code",
   "source": [
    "print(f\"Length of X: {len(X)}\")\n",
    "print(f\"Length of y: {len(y)}\")\n"
   ],
   "id": "676ab2333f934dfd",
   "outputs": [
    {
     "name": "stdout",
     "output_type": "stream",
     "text": [
      "Length of X: 11929\n",
      "Length of y: 11929\n"
     ]
    }
   ],
   "execution_count": 81
  },
  {
   "metadata": {},
   "cell_type": "markdown",
   "source": "## Splitting the dataset into the Training set and Test set\n",
   "id": "4e8ca74606cd8765"
  },
  {
   "metadata": {
    "ExecuteTime": {
     "end_time": "2025-01-27T22:22:19.164185Z",
     "start_time": "2025-01-27T22:22:19.119147Z"
    }
   },
   "cell_type": "code",
   "source": [
    "from sklearn.model_selection import train_test_split\n",
    "X_train, X_test, y_train, y_test = train_test_split(X, y, test_size = 0.20, random_state = 0)"
   ],
   "id": "9a77ed31ef8eb847",
   "outputs": [],
   "execution_count": 82
  },
  {
   "metadata": {},
   "cell_type": "markdown",
   "source": "## Training the Naive Bayes model on the Training set",
   "id": "dbac563ec209d08e"
  },
  {
   "metadata": {
    "ExecuteTime": {
     "end_time": "2025-01-27T22:23:00.340508Z",
     "start_time": "2025-01-27T22:22:59.973974Z"
    }
   },
   "cell_type": "code",
   "source": [
    "from sklearn.naive_bayes import GaussianNB\n",
    "classifier = GaussianNB()\n",
    "classifier.fit(X_train, y_train)"
   ],
   "id": "40250072f3c4a364",
   "outputs": [
    {
     "data": {
      "text/plain": [
       "GaussianNB()"
      ],
      "text/html": [
       "<style>#sk-container-id-1 {color: black;}#sk-container-id-1 pre{padding: 0;}#sk-container-id-1 div.sk-toggleable {background-color: white;}#sk-container-id-1 label.sk-toggleable__label {cursor: pointer;display: block;width: 100%;margin-bottom: 0;padding: 0.3em;box-sizing: border-box;text-align: center;}#sk-container-id-1 label.sk-toggleable__label-arrow:before {content: \"▸\";float: left;margin-right: 0.25em;color: #696969;}#sk-container-id-1 label.sk-toggleable__label-arrow:hover:before {color: black;}#sk-container-id-1 div.sk-estimator:hover label.sk-toggleable__label-arrow:before {color: black;}#sk-container-id-1 div.sk-toggleable__content {max-height: 0;max-width: 0;overflow: hidden;text-align: left;background-color: #f0f8ff;}#sk-container-id-1 div.sk-toggleable__content pre {margin: 0.2em;color: black;border-radius: 0.25em;background-color: #f0f8ff;}#sk-container-id-1 input.sk-toggleable__control:checked~div.sk-toggleable__content {max-height: 200px;max-width: 100%;overflow: auto;}#sk-container-id-1 input.sk-toggleable__control:checked~label.sk-toggleable__label-arrow:before {content: \"▾\";}#sk-container-id-1 div.sk-estimator input.sk-toggleable__control:checked~label.sk-toggleable__label {background-color: #d4ebff;}#sk-container-id-1 div.sk-label input.sk-toggleable__control:checked~label.sk-toggleable__label {background-color: #d4ebff;}#sk-container-id-1 input.sk-hidden--visually {border: 0;clip: rect(1px 1px 1px 1px);clip: rect(1px, 1px, 1px, 1px);height: 1px;margin: -1px;overflow: hidden;padding: 0;position: absolute;width: 1px;}#sk-container-id-1 div.sk-estimator {font-family: monospace;background-color: #f0f8ff;border: 1px dotted black;border-radius: 0.25em;box-sizing: border-box;margin-bottom: 0.5em;}#sk-container-id-1 div.sk-estimator:hover {background-color: #d4ebff;}#sk-container-id-1 div.sk-parallel-item::after {content: \"\";width: 100%;border-bottom: 1px solid gray;flex-grow: 1;}#sk-container-id-1 div.sk-label:hover label.sk-toggleable__label {background-color: #d4ebff;}#sk-container-id-1 div.sk-serial::before {content: \"\";position: absolute;border-left: 1px solid gray;box-sizing: border-box;top: 0;bottom: 0;left: 50%;z-index: 0;}#sk-container-id-1 div.sk-serial {display: flex;flex-direction: column;align-items: center;background-color: white;padding-right: 0.2em;padding-left: 0.2em;position: relative;}#sk-container-id-1 div.sk-item {position: relative;z-index: 1;}#sk-container-id-1 div.sk-parallel {display: flex;align-items: stretch;justify-content: center;background-color: white;position: relative;}#sk-container-id-1 div.sk-item::before, #sk-container-id-1 div.sk-parallel-item::before {content: \"\";position: absolute;border-left: 1px solid gray;box-sizing: border-box;top: 0;bottom: 0;left: 50%;z-index: -1;}#sk-container-id-1 div.sk-parallel-item {display: flex;flex-direction: column;z-index: 1;position: relative;background-color: white;}#sk-container-id-1 div.sk-parallel-item:first-child::after {align-self: flex-end;width: 50%;}#sk-container-id-1 div.sk-parallel-item:last-child::after {align-self: flex-start;width: 50%;}#sk-container-id-1 div.sk-parallel-item:only-child::after {width: 0;}#sk-container-id-1 div.sk-dashed-wrapped {border: 1px dashed gray;margin: 0 0.4em 0.5em 0.4em;box-sizing: border-box;padding-bottom: 0.4em;background-color: white;}#sk-container-id-1 div.sk-label label {font-family: monospace;font-weight: bold;display: inline-block;line-height: 1.2em;}#sk-container-id-1 div.sk-label-container {text-align: center;}#sk-container-id-1 div.sk-container {/* jupyter's `normalize.less` sets `[hidden] { display: none; }` but bootstrap.min.css set `[hidden] { display: none !important; }` so we also need the `!important` here to be able to override the default hidden behavior on the sphinx rendered scikit-learn.org. See: https://github.com/scikit-learn/scikit-learn/issues/21755 */display: inline-block !important;position: relative;}#sk-container-id-1 div.sk-text-repr-fallback {display: none;}</style><div id=\"sk-container-id-1\" class=\"sk-top-container\"><div class=\"sk-text-repr-fallback\"><pre>GaussianNB()</pre><b>In a Jupyter environment, please rerun this cell to show the HTML representation or trust the notebook. <br />On GitHub, the HTML representation is unable to render, please try loading this page with nbviewer.org.</b></div><div class=\"sk-container\" hidden><div class=\"sk-item\"><div class=\"sk-estimator sk-toggleable\"><input class=\"sk-toggleable__control sk-hidden--visually\" id=\"sk-estimator-id-1\" type=\"checkbox\" checked><label for=\"sk-estimator-id-1\" class=\"sk-toggleable__label sk-toggleable__label-arrow\">GaussianNB</label><div class=\"sk-toggleable__content\"><pre>GaussianNB()</pre></div></div></div></div></div>"
      ]
     },
     "execution_count": 83,
     "metadata": {},
     "output_type": "execute_result"
    }
   ],
   "execution_count": 83
  },
  {
   "metadata": {},
   "cell_type": "markdown",
   "source": "## Predicting the Test set results\n",
   "id": "2f1b152f598cc343"
  },
  {
   "metadata": {
    "ExecuteTime": {
     "end_time": "2025-01-27T22:23:14.519450Z",
     "start_time": "2025-01-27T22:23:14.409401Z"
    }
   },
   "cell_type": "code",
   "source": [
    "y_pred = classifier.predict(X_test)\n",
    "print(np.concatenate((y_pred.reshape(len(y_pred),1), y_test.reshape(len(y_test),1)),1))"
   ],
   "id": "4906e892a534481a",
   "outputs": [
    {
     "name": "stdout",
     "output_type": "stream",
     "text": [
      "[[1 1]\n",
      " [1 0]\n",
      " [1 1]\n",
      " ...\n",
      " [1 1]\n",
      " [1 1]\n",
      " [0 0]]\n"
     ]
    }
   ],
   "execution_count": 84
  },
  {
   "metadata": {},
   "cell_type": "markdown",
   "source": "## Making the Confusion Matrix\n",
   "id": "1beb4ad21f21c450"
  },
  {
   "metadata": {
    "ExecuteTime": {
     "end_time": "2025-01-27T22:23:27.100619Z",
     "start_time": "2025-01-27T22:23:27.082475Z"
    }
   },
   "cell_type": "code",
   "source": [
    "from sklearn.metrics import confusion_matrix, accuracy_score\n",
    "cm = confusion_matrix(y_test, y_pred)\n",
    "print(cm)\n",
    "accuracy_score(y_test, y_pred)"
   ],
   "id": "18abbf9ec0c2d468",
   "outputs": [
    {
     "name": "stdout",
     "output_type": "stream",
     "text": [
      "[[1330   13]\n",
      " [  52  991]]\n"
     ]
    },
    {
     "data": {
      "text/plain": [
       "0.9727577535624476"
      ]
     },
     "execution_count": 85,
     "metadata": {},
     "output_type": "execute_result"
    }
   ],
   "execution_count": 85
  }
 ],
 "metadata": {
  "kernelspec": {
   "display_name": "Python 3",
   "language": "python",
   "name": "python3"
  },
  "language_info": {
   "codemirror_mode": {
    "name": "ipython",
    "version": 2
   },
   "file_extension": ".py",
   "mimetype": "text/x-python",
   "name": "python",
   "nbconvert_exporter": "python",
   "pygments_lexer": "ipython2",
   "version": "2.7.6"
  }
 },
 "nbformat": 4,
 "nbformat_minor": 5
}
